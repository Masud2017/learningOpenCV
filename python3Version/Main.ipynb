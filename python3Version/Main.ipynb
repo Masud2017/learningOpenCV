{
 "cells": [
  {
   "cell_type": "code",
   "execution_count": 25,
   "metadata": {},
   "outputs": [],
   "source": [
    "import cv2\n",
    "import cv"
   ]
  },
  {
   "cell_type": "code",
   "execution_count": 26,
   "metadata": {},
   "outputs": [],
   "source": [
    "def main():\n",
    "    video = cv2.VideoCapture(\"../showvid.mp4\")\n",
    "    if video.isOpened == False:\n",
    "        print(\"Something went wrong\")\n",
    "        return -1\n",
    "    while(video.isOpened()):\n",
    "        ret, frame = video.read()\n",
    "        window = \"Original Video\"\n",
    "        cv2.imshow('Frame', frame) \n",
    "   \n",
    "        # Press Q on keyboard to  exit \n",
    "        if cv2.waitKey(25) & 0xFF == ord('q'): \n",
    "          break\n",
    "\n",
    "      # Break the loop \n",
    "        else:  \n",
    "            break\n",
    "    video.release()\n",
    "    cv2.destroyWindow(\"Frame\")"
   ]
  },
  {
   "cell_type": "code",
   "execution_count": 27,
   "metadata": {},
   "outputs": [],
   "source": [
    "if __name__ == \"__main__\":\n",
    "    main()"
   ]
  },
  {
   "cell_type": "code",
   "execution_count": null,
   "metadata": {},
   "outputs": [],
   "source": []
  },
  {
   "cell_type": "code",
   "execution_count": null,
   "metadata": {},
   "outputs": [],
   "source": []
  }
 ],
 "metadata": {
  "kernelspec": {
   "display_name": "Python 3",
   "language": "python",
   "name": "python3"
  },
  "language_info": {
   "codemirror_mode": {
    "name": "ipython",
    "version": 3
   },
   "file_extension": ".py",
   "mimetype": "text/x-python",
   "name": "python",
   "nbconvert_exporter": "python",
   "pygments_lexer": "ipython3",
   "version": "3.8.3"
  }
 },
 "nbformat": 4,
 "nbformat_minor": 4
}
